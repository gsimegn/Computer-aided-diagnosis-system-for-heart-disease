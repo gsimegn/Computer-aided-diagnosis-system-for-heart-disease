{
 "cells": [
  {
   "cell_type": "code",
   "execution_count": 1,
   "metadata": {},
   "outputs": [],
   "source": [
    "import csv\n",
    "import math\n",
    "import pandas as pd\n",
    "import numpy as np\n",
    "import matplotlib.pyplot as plt\n",
    "import scipy.fftpack    \n",
    "import scipy.signal as signal\n",
    "import neurokit2 as nk\n",
    "from scipy.io import loadmat\n",
    "import os\n",
    "import sys\n",
    "import tensorflow_addons as tfa\n",
    "import tensorflow as tf\n",
    "from tensorflow import keras\n",
    "from tensorflow.keras.utils import plot_model\n",
    "from keras.preprocessing.sequence import pad_sequences\n",
    "import matplotlib.pyplot as plt\n",
    "from sklearn.model_selection import train_test_split"
   ]
  },
  {
   "cell_type": "code",
   "execution_count": 2,
   "metadata": {},
   "outputs": [],
   "source": [
    "labels = ['10370003','111975006', '164889003', '164890007' ,'164909002' ,'164917005',\n",
    " '164934002' ,'164947007', '17338001', '251146004' ,'270492004' ,'284470004',\n",
    " '39732003' ,'426177001', '426627000', '426783006' ,'427084000', '427172004',\n",
    " '427393009' ,'445118002', '47665007' ,'59118001', '59931005' ,'63593006',\n",
    " '698252002', '713426002' ,'713427006']"
   ]
  },
  {
   "cell_type": "code",
   "execution_count": 3,
   "metadata": {},
   "outputs": [],
   "source": [
    " y_code = ['10370003', '111975006', '164889003', '164890007', '164909002', '164917005',\n",
    "              '164934002', '164947007', '17338001', '251146004', '270492004', '284470004',\n",
    "              '39732003', '426177001', '426627000', '426783006', '427084000', '427172004',\n",
    "              '427393009', '445118002', '47665007', '59118001', '59931005', '63593006',\n",
    "              '698252002', '713426002', '713427006']\n",
    "y_full_length_name = ['pacing rhythm',\n",
    "                          'prolonged qt interval', 'atrial fibrillation', 'atrial flutter', 'left bundle branch block',\n",
    "                          'qwave abnormal', 't wave abnormal', 'prolonged pr interval', 'ventricular premature beats', 'low qrs voltages',\n",
    "                          '1st degree av block', 'supraventricular premature beats', 'left axis deviation',\n",
    "                          'sinus bradycardia', 'bradycardia', 'sinus rhythm', 'sinus tachycardia',\n",
    "                          'ventricular premature beats', 'sinus arrhythmia', 'left anterior fascicular block', 'right axis deviation',\n",
    "                          'right bundle branch block', 't wave inversion', 'supraventricular premature beats', 'nonspecific intraventricular conduction disorder', 'incomplete right bundle branch block', 'complete right bundle branch block']\n",
    "y_abbrv_name = ['PR', 'LQT', 'AF', 'AFL',\n",
    "                    'LBBB', 'QAb', 'TAb', 'LPR', 'VPB', 'LQESV', 'IAVB', 'SVPB', 'LAD', 'SB', 'Brady', 'SNR', 'STach',\n",
    "                    'VPB', 'SA', 'LAnFB', 'RAD', 'RBBB', 'TInv', 'SVPB', 'NSIVCB', 'IRBBB', 'CRBBB']"
   ]
  },
  {
   "cell_type": "code",
   "execution_count": 4,
   "metadata": {},
   "outputs": [],
   "source": [
    "labels_18 = ['17338001','47665007','59118001','59931005','63593006','111975006','164889003','164890007','164909002','164917005','164934002','270492004','284470004','426177001','427172004','445118002','698252002','713426002']"
   ]
  },
  {
   "cell_type": "code",
   "execution_count": 6,
   "metadata": {},
   "outputs": [],
   "source": [
    "labels_name = []\n",
    "labels_abrv = []\n",
    "for i in labels_18:\n",
    "    indx = y_code.index(i)\n",
    "    labels_name.append(y_full_length_name[indx])\n",
    "    labels_abrv.append(y_abbrv_name[indx])"
   ]
  },
  {
   "cell_type": "code",
   "execution_count": 7,
   "metadata": {},
   "outputs": [
    {
     "data": {
      "text/plain": [
       "['ventricular premature beats',\n",
       " 'right axis deviation',\n",
       " 'right bundle branch block',\n",
       " 't wave inversion',\n",
       " 'supraventricular premature beats',\n",
       " 'prolonged qt interval',\n",
       " 'atrial fibrillation',\n",
       " 'atrial flutter',\n",
       " 'left bundle branch block',\n",
       " 'qwave abnormal',\n",
       " 't wave abnormal',\n",
       " '1st degree av block',\n",
       " 'supraventricular premature beats',\n",
       " 'sinus bradycardia',\n",
       " 'ventricular premature beats',\n",
       " 'left anterior fascicular block',\n",
       " 'nonspecific intraventricular conduction disorder',\n",
       " 'incomplete right bundle branch block']"
      ]
     },
     "execution_count": 7,
     "metadata": {},
     "output_type": "execute_result"
    }
   ],
   "source": [
    "labels_name"
   ]
  },
  {
   "cell_type": "code",
   "execution_count": 8,
   "metadata": {},
   "outputs": [
    {
     "data": {
      "text/plain": [
       "['VPB',\n",
       " 'RAD',\n",
       " 'RBBB',\n",
       " 'TInv',\n",
       " 'SVPB',\n",
       " 'LQT',\n",
       " 'AF',\n",
       " 'AFL',\n",
       " 'LBBB',\n",
       " 'QAb',\n",
       " 'TAb',\n",
       " 'IAVB',\n",
       " 'SVPB',\n",
       " 'SB',\n",
       " 'VPB',\n",
       " 'LAnFB',\n",
       " 'NSIVCB',\n",
       " 'IRBBB']"
      ]
     },
     "execution_count": 8,
     "metadata": {},
     "output_type": "execute_result"
    }
   ],
   "source": [
    "labels_abrv"
   ]
  },
  {
   "cell_type": "code",
   "execution_count": 9,
   "metadata": {},
   "outputs": [
    {
     "data": {
      "text/plain": [
       "18"
      ]
     },
     "execution_count": 9,
     "metadata": {},
     "output_type": "execute_result"
    }
   ],
   "source": [
    "len(labels_abrv)"
   ]
  },
  {
   "cell_type": "code",
   "execution_count": 10,
   "metadata": {},
   "outputs": [],
   "source": [
    "\n",
    "def load_ECG_data(path):\n",
    "    file_counter = 0\n",
    "    signal_data, age_gender_data, label_data = [],[],[]\n",
    "    for dir1 in os.listdir(path):\n",
    "        path1 = os.path.join(path, dir1)\n",
    "        if os.path.isdir(path1):\n",
    "            for dir2 in os.listdir(path1):\n",
    "                path2 = os.path.join(path1, dir2)\n",
    "                if os.path.isdir(path2):\n",
    "                    for file in os.listdir(path2):\n",
    "                        file_name = file.split(\".\")[0]\n",
    "                        heaFile = os.path.join(path2, file_name+\".hea\")\n",
    "                        header_reader = open(heaFile, 'r')\n",
    "                        header = header_reader.read()\n",
    "                        header = header.split(\"\\n\")\n",
    "                        try:\n",
    "                            age = int(header[13].split(\":\")[1].replace(\" \", \"\"))\n",
    "                        except:\n",
    "                            \n",
    "                            age = -1\n",
    "                        sex = (header[14].split(\":\")[1]).replace(\" \", \"\")\n",
    "                        if sex==\"Female\" or sex==\"F\" or sex == \"female\":\n",
    "                            sex = 1\n",
    "                        elif sex == \"NaN\":\n",
    "                            sex = 2\n",
    "                        else:\n",
    "                            sex = 0\n",
    "                        age_gender = [age, sex]\n",
    "                        age_gender = np.array(age_gender)\n",
    "                        label = ((header[15].split(\":\")[1]).split(\",\")[0]).replace(\" \", \"\")\n",
    "                        found= \"T\"\n",
    "                        try:\n",
    "                            label = labels_18.index(str(label))\n",
    "                            matFile = os.path.join(path2, file_name+\".mat\")\n",
    "                            signal = loadmat(matFile)\n",
    "                            signal = signal['val']\n",
    "                            signal = pad_sequences(signal, maxlen=2500, truncating='post',padding=\"post\")\n",
    "                            signal = np.array(signal)\n",
    "                            signal = signal/np.max(signal)\n",
    "                            signal = signal.reshape(2500,12)\n",
    "                            signal_data.append(signal)\n",
    "                            age_gender_data.append(age_gender)\n",
    "                            \n",
    "                            label_data.append(label)\n",
    "                            \n",
    "                        except:\n",
    "                            found=\"F\"\n",
    "                            continue\n",
    "                        file_counter+=1\n",
    "                        sys.stdout.write('\\r')\n",
    "                        sys.stdout.write(\"Progress: \"+found+\" \"+str(file_counter)+\"\")\n",
    "                        sys.stdout.flush()\n",
    "    return signal_data, age_gender_data, label_data"
   ]
  },
  {
   "cell_type": "code",
   "execution_count": 11,
   "metadata": {},
   "outputs": [
    {
     "name": "stdout",
     "output_type": "stream",
     "text": [
      "Progress: T 21496"
     ]
    }
   ],
   "source": [
    "signal_data, age_gender_data, label_data = load_ECG_data(\".../input\")"
   ]
  },
  {
   "cell_type": "code",
   "execution_count": null,
   "metadata": {},
   "outputs": [],
   "source": [
    "#model construction"
   ]
  },
  {
   "cell_type": "code",
   "execution_count": null,
   "metadata": {},
   "outputs": [],
   "source": [
    "# def build_model():\n",
    "#     inputA = keras.layers.Input(shape=(2500,12))\n",
    "#     inputB = keras.layers.Input(shape=(2,))\n",
    "\n",
    "\n",
    "#     conv1 = keras.layers.Conv1D(filters=128, kernel_size=8,input_shape=(2500,12), padding='same')(inputA)\n",
    "#     conv1 = keras.layers.BatchNormalization()(conv1)\n",
    "#     conv1 = keras.layers.Activation(activation='relu')(conv1)\n",
    "\n",
    "#     conv2 = keras.layers.Conv1D(filters=256, kernel_size=5, padding='same')(conv1)\n",
    "#     conv2 = keras.layers.BatchNormalization()(conv2)\n",
    "#     conv2 = keras.layers.Activation('relu')(conv2)\n",
    "\n",
    "#     conv3 = keras.layers.Conv1D(128, kernel_size=3,padding='same')(conv2)\n",
    "#     conv3 = keras.layers.BatchNormalization()(conv3)\n",
    "#     conv3 = keras.layers.Activation('relu')(conv3)\n",
    "\n",
    "#     gap_layer = keras.layers.GlobalAveragePooling1D()(conv3)\n",
    "#     model1 = keras.Model(inputs=inputA, outputs=gap_layer)\n",
    "\n",
    "    \n",
    "#     mod3 = keras.layers.Dense(50, activation=\"relu\")(inputB) # 2 -> 100\n",
    "#     mod3 = keras.layers.Dense(2, activation=\"sigmoid\")(mod3) # Added this layer\n",
    "#     model3 = keras.Model(inputs=inputB, outputs=mod3)\n",
    "\n",
    "#     combined = keras.layers.concatenate([model1.output, model3.output])\n",
    "#     final_layer = keras.layers.Dense(18, activation=\"sigmoid\")(combined)\n",
    "#     model = keras.models.Model(inputs=[inputA,inputB], outputs=final_layer)\n",
    "\n",
    "#     model.compile(loss='binary_crossentropy', optimizer = 'adam', metrics=['accuracy'])\n",
    "#     return model"
   ]
  },
  {
   "cell_type": "code",
   "execution_count": 12,
   "metadata": {},
   "outputs": [],
   "source": [
    "def fcn_encoder():\n",
    "    inputA = keras.layers.Input(shape=(2500,12))\n",
    "    inputB = keras.layers.Input(shape=(2,))\n",
    "\n",
    "\n",
    "#     conv1 = keras.layers.Conv1D(filters=128, kernel_size=8,input_shape=(5000,12), padding='same')(inputA)\n",
    "#     conv1 = keras.layers.BatchNormalization()(conv1)\n",
    "#     conv1 = keras.layers.Activation(activation='relu')(conv1)\n",
    "\n",
    "#     conv2 = keras.layers.Conv1D(filters=256, kernel_size=5, padding='same')(conv1)\n",
    "#     conv2 = keras.layers.BatchNormalization()(conv2)\n",
    "#     conv2 = keras.layers.Activation('relu')(conv2)\n",
    "\n",
    "#     conv3 = keras.layers.Conv1D(128, kernel_size=3,padding='same')(conv2)\n",
    "#     conv3 = keras.layers.BatchNormalization()(conv3)\n",
    "#     conv3 = keras.layers.Activation('relu')(conv3)\n",
    "\n",
    "#     gap_layer = keras.layers.GlobalAveragePooling1D()(conv3)\n",
    "#     model1 = keras.Model(inputs=inputA, outputs=gap_layer)\n",
    "    model1 = keras.layers.LSTM(128, input_shape=(2500,12),return_sequences=True)(inputA)\n",
    "    model1 = keras.layers.LSTM(128,return_sequences=True)(model1)\n",
    "    model1 = keras.layers.GlobalMaxPooling1D()(model1)\n",
    "#     model1 = Dense(128, activation = 'relu')(model1)\n",
    "    \n",
    "    model1 = keras.Model(inputs = inputA, outputs = model1)\n",
    "\n",
    "    conv1 = keras.layers.Conv1D(filters=128,kernel_size=10,strides=1,padding='same')(inputA)\n",
    "    conv1 = tfa.layers.InstanceNormalization()(conv1)\n",
    "    conv1 = keras.layers.PReLU(shared_axes=[1])(conv1)\n",
    "    conv1 = keras.layers.Dropout(rate=0.2)(conv1)\n",
    "    conv1 = keras.layers.MaxPooling1D(pool_size=2)(conv1)\n",
    "    # conv block -2\n",
    "    conv2 = keras.layers.Conv1D(filters=128,kernel_size=22,strides=1,padding='same')(conv1)\n",
    "    conv2 = tfa.layers.InstanceNormalization()(conv2)\n",
    "    conv2 = keras.layers.PReLU(shared_axes=[1])(conv2)\n",
    "    conv2 = keras.layers.Dropout(rate=0.2)(conv2)\n",
    "    conv2 = keras.layers.MaxPooling1D(pool_size=2)(conv2)\n",
    "    # conv block -3\n",
    "    conv3 = keras.layers.Conv1D(filters=128,kernel_size=42,strides=1,padding='same')(conv2)\n",
    "    conv3 = tfa.layers.InstanceNormalization()(conv3)\n",
    "    conv3 = keras.layers.PReLU(shared_axes=[1])(conv3)\n",
    "    conv3 = keras.layers.Dropout(rate=0.2)(conv3)\n",
    "    # split for attention\n",
    "    attention_data = keras.layers.Lambda(lambda x: x[:,:,:64])(conv3)\n",
    "    attention_softmax = keras.layers.Lambda(lambda x: x[:,:,64:])(conv3)\n",
    "    # attention mechanism\n",
    "    attention_softmax = keras.layers.Softmax()(attention_softmax)\n",
    "    multiply_layer = keras.layers.Multiply()([attention_softmax,attention_data])\n",
    "    # last layer\n",
    "    dense_layer = keras.layers.Dense(units=128,activation='sigmoid')(multiply_layer)\n",
    "    dense_layer = tfa.layers.InstanceNormalization()(dense_layer)\n",
    "    # output layer\n",
    "    flatten_layer = keras.layers.Flatten()(dense_layer)\n",
    "    model2 = keras.Model(inputs=inputA, outputs=flatten_layer)\n",
    "\n",
    "\n",
    "    mod3 = keras.layers.Dense(50, activation=\"relu\")(inputB) # 2 -> 100\n",
    "    mod3 = keras.layers.Dense(2, activation=\"sigmoid\")(mod3) # Added this layer\n",
    "    model3 = keras.Model(inputs=inputB, outputs=mod3)\n",
    "    \n",
    "#     combined = keras.layers.concatenate([model1.output, model2.output, model3.output])\n",
    "    combined = keras.layers.concatenate([model1.output,model2.output, model3.output])\n",
    "    final_layer = keras.layers.Dense(18, activation=\"softmax\")(combined)\n",
    "    model = keras.models.Model(inputs=[inputA,inputB], outputs=final_layer)\n",
    "\n",
    "    model.compile(loss='categorical_crossentropy', optimizer='adam', metrics=['accuracy'])\n",
    "    return model\n"
   ]
  },
  {
   "cell_type": "code",
   "execution_count": 13,
   "metadata": {},
   "outputs": [],
   "source": [
    "model  = fcn_encoder()"
   ]
  },
  {
   "cell_type": "code",
   "execution_count": 14,
   "metadata": {},
   "outputs": [
    {
     "name": "stdout",
     "output_type": "stream",
     "text": [
      "Model: \"model_3\"\n",
      "__________________________________________________________________________________________________\n",
      "Layer (type)                    Output Shape         Param #     Connected to                     \n",
      "==================================================================================================\n",
      "input_1 (InputLayer)            [(None, 2500, 12)]   0                                            \n",
      "__________________________________________________________________________________________________\n",
      "conv1d (Conv1D)                 (None, 2500, 128)    15488       input_1[0][0]                    \n",
      "__________________________________________________________________________________________________\n",
      "instance_normalization (Instanc (None, 2500, 128)    256         conv1d[0][0]                     \n",
      "__________________________________________________________________________________________________\n",
      "p_re_lu (PReLU)                 (None, 2500, 128)    128         instance_normalization[0][0]     \n",
      "__________________________________________________________________________________________________\n",
      "dropout (Dropout)               (None, 2500, 128)    0           p_re_lu[0][0]                    \n",
      "__________________________________________________________________________________________________\n",
      "max_pooling1d (MaxPooling1D)    (None, 1250, 128)    0           dropout[0][0]                    \n",
      "__________________________________________________________________________________________________\n",
      "conv1d_1 (Conv1D)               (None, 1250, 128)    360576      max_pooling1d[0][0]              \n",
      "__________________________________________________________________________________________________\n",
      "instance_normalization_1 (Insta (None, 1250, 128)    256         conv1d_1[0][0]                   \n",
      "__________________________________________________________________________________________________\n",
      "p_re_lu_1 (PReLU)               (None, 1250, 128)    128         instance_normalization_1[0][0]   \n",
      "__________________________________________________________________________________________________\n",
      "dropout_1 (Dropout)             (None, 1250, 128)    0           p_re_lu_1[0][0]                  \n",
      "__________________________________________________________________________________________________\n",
      "max_pooling1d_1 (MaxPooling1D)  (None, 625, 128)     0           dropout_1[0][0]                  \n",
      "__________________________________________________________________________________________________\n",
      "conv1d_2 (Conv1D)               (None, 625, 128)     688256      max_pooling1d_1[0][0]            \n",
      "__________________________________________________________________________________________________\n",
      "instance_normalization_2 (Insta (None, 625, 128)     256         conv1d_2[0][0]                   \n",
      "__________________________________________________________________________________________________\n",
      "p_re_lu_2 (PReLU)               (None, 625, 128)     128         instance_normalization_2[0][0]   \n",
      "__________________________________________________________________________________________________\n",
      "dropout_2 (Dropout)             (None, 625, 128)     0           p_re_lu_2[0][0]                  \n",
      "__________________________________________________________________________________________________\n",
      "lambda_1 (Lambda)               (None, 625, 64)      0           dropout_2[0][0]                  \n",
      "__________________________________________________________________________________________________\n",
      "softmax (Softmax)               (None, 625, 64)      0           lambda_1[0][0]                   \n",
      "__________________________________________________________________________________________________\n",
      "lambda (Lambda)                 (None, 625, 64)      0           dropout_2[0][0]                  \n",
      "__________________________________________________________________________________________________\n",
      "multiply (Multiply)             (None, 625, 64)      0           softmax[0][0]                    \n",
      "                                                                 lambda[0][0]                     \n",
      "__________________________________________________________________________________________________\n",
      "lstm (LSTM)                     (None, 2500, 128)    72192       input_1[0][0]                    \n",
      "__________________________________________________________________________________________________\n",
      "dense (Dense)                   (None, 625, 128)     8320        multiply[0][0]                   \n",
      "__________________________________________________________________________________________________\n",
      "input_2 (InputLayer)            [(None, 2)]          0                                            \n",
      "__________________________________________________________________________________________________\n",
      "lstm_1 (LSTM)                   (None, 2500, 128)    131584      lstm[0][0]                       \n",
      "__________________________________________________________________________________________________\n",
      "instance_normalization_3 (Insta (None, 625, 128)     256         dense[0][0]                      \n",
      "__________________________________________________________________________________________________\n",
      "dense_1 (Dense)                 (None, 50)           150         input_2[0][0]                    \n",
      "__________________________________________________________________________________________________\n",
      "global_max_pooling1d (GlobalMax (None, 128)          0           lstm_1[0][0]                     \n",
      "__________________________________________________________________________________________________\n",
      "flatten (Flatten)               (None, 80000)        0           instance_normalization_3[0][0]   \n",
      "__________________________________________________________________________________________________\n",
      "dense_2 (Dense)                 (None, 2)            102         dense_1[0][0]                    \n",
      "__________________________________________________________________________________________________\n",
      "concatenate (Concatenate)       (None, 80130)        0           global_max_pooling1d[0][0]       \n",
      "                                                                 flatten[0][0]                    \n",
      "                                                                 dense_2[0][0]                    \n",
      "__________________________________________________________________________________________________\n",
      "dense_3 (Dense)                 (None, 18)           1442358     concatenate[0][0]                \n",
      "==================================================================================================\n",
      "Total params: 2,720,434\n",
      "Trainable params: 2,720,434\n",
      "Non-trainable params: 0\n",
      "__________________________________________________________________________________________________\n"
     ]
    }
   ],
   "source": [
    "model.summary()"
   ]
  },
  {
   "cell_type": "code",
   "execution_count": 15,
   "metadata": {},
   "outputs": [],
   "source": [
    "signal_data = np.array(signal_data)\n",
    "age_gender_data = np.array(age_gender_data)\n",
    "label_data = np.array(label_data)"
   ]
  },
  {
   "cell_type": "code",
   "execution_count": 16,
   "metadata": {},
   "outputs": [],
   "source": [
    "cat_label_data = tf.keras.utils.to_categorical(label_data, num_classes = 18, dtype='int')"
   ]
  },
  {
   "cell_type": "code",
   "execution_count": 17,
   "metadata": {},
   "outputs": [],
   "source": [
    "from keras.callbacks import EarlyStopping\n",
    "es = EarlyStopping(monitor = 'val_accuracy', mode = 'max', verbose = 1, patience=3)"
   ]
  },
  {
   "cell_type": "code",
   "execution_count": 18,
   "metadata": {
    "scrolled": true
   },
   "outputs": [
    {
     "name": "stdout",
     "output_type": "stream",
     "text": [
      "Epoch 1/50\n",
      "1720/1720 [==============================] - 5767s 3s/step - loss: 1.6265 - accuracy: 0.5013 - val_loss: 0.9617 - val_accuracy: 0.6953\n",
      "Epoch 2/50\n",
      "1720/1720 [==============================] - 5603s 3s/step - loss: 0.9514 - accuracy: 0.7074 - val_loss: 0.9304 - val_accuracy: 0.7242\n",
      "Epoch 3/50\n",
      "1720/1720 [==============================] - 5597s 3s/step - loss: 0.4920 - accuracy: 0.8461 - val_loss: 1.1499 - val_accuracy: 0.7130\n",
      "Epoch 4/50\n",
      "1720/1720 [==============================] - 5618s 3s/step - loss: 0.2918 - accuracy: 0.9076 - val_loss: 1.2916 - val_accuracy: 0.7177\n",
      "Epoch 5/50\n",
      "1720/1720 [==============================] - 5620s 3s/step - loss: 0.2302 - accuracy: 0.9295 - val_loss: 1.2908 - val_accuracy: 0.7260\n",
      "Epoch 6/50\n",
      "1720/1720 [==============================] - 5626s 3s/step - loss: 0.1775 - accuracy: 0.9480 - val_loss: 1.1151 - val_accuracy: 0.7512\n",
      "Epoch 7/50\n",
      "1720/1720 [==============================] - 5634s 3s/step - loss: 0.1512 - accuracy: 0.9598 - val_loss: 1.4938 - val_accuracy: 0.7028\n",
      "Epoch 8/50\n",
      "1720/1720 [==============================] - 5638s 3s/step - loss: 0.1325 - accuracy: 0.9628 - val_loss: 1.4062 - val_accuracy: 0.7298\n",
      "Epoch 9/50\n",
      "1720/1720 [==============================] - 5623s 3s/step - loss: 0.1264 - accuracy: 0.9644 - val_loss: 1.3625 - val_accuracy: 0.7419\n",
      "Epoch 00009: early stopping\n"
     ]
    }
   ],
   "source": [
    "history = model.fit([signal_data, age_gender_data], cat_label_data, batch_size = 10,epochs = 50, validation_split = 0.2, shuffle = True, callbacks=[es])"
   ]
  },
  {
   "cell_type": "code",
   "execution_count": 19,
   "metadata": {},
   "outputs": [],
   "source": [
    "import json\n",
    "\n",
    "hst = open(\"...path//custom_model2_hist.json\",'w')\n",
    "\n",
    "json.dump(history.history, hst)"
   ]
  },
  {
   "cell_type": "code",
   "execution_count": 20,
   "metadata": {},
   "outputs": [],
   "source": [
    "model.save_weights(\"...path/custom_model_new.h5\")"
   ]
  },
  {
   "cell_type": "code",
   "execution_count": 22,
   "metadata": {},
   "outputs": [],
   "source": [
    "y_pred =  model.predict([signal_data, age_gender_data])"
   ]
  },
  {
   "cell_type": "code",
   "execution_count": 23,
   "metadata": {},
   "outputs": [],
   "source": [
    "from sklearn.metrics import plot_confusion_matrix, confusion_matrix"
   ]
  },
  {
   "cell_type": "code",
   "execution_count": 24,
   "metadata": {},
   "outputs": [],
   "source": [
    "y_pred_scalar = []\n",
    "for y in y_pred:\n",
    "    y_pred_scalar.append(np.argmax(y))"
   ]
  },
  {
   "cell_type": "code",
   "execution_count": 25,
   "metadata": {},
   "outputs": [],
   "source": [
    "labels = [0,1,2,3,4,5,6,7,8,9,10,11,12,13,14,15,16,17]"
   ]
  },
  {
   "cell_type": "code",
   "execution_count": 26,
   "metadata": {},
   "outputs": [],
   "source": [
    "matrix = confusion_matrix(label_data, y_pred_scalar)"
   ]
  },
  {
   "cell_type": "code",
   "execution_count": 27,
   "metadata": {},
   "outputs": [],
   "source": [
    "matrix_norm = []\n",
    "for i in matrix:\n",
    "    sum = 0\n",
    "    for j in i:\n",
    "        sum+=j\n",
    "    k = i/sum\n",
    "    k = k.round(3)\n",
    "    matrix_norm.append(k)"
   ]
  },
  {
   "cell_type": "code",
   "execution_count": 28,
   "metadata": {},
   "outputs": [],
   "source": [
    "matrix_norm = np.array(matrix_norm)"
   ]
  },
  {
   "cell_type": "code",
   "execution_count": 29,
   "metadata": {},
   "outputs": [],
   "source": [
    "import seaborn as sn\n",
    "import pandas as pd"
   ]
  },
  {
   "cell_type": "code",
   "execution_count": 30,
   "metadata": {},
   "outputs": [
    {
     "data": {
      "text/plain": [
       "<AxesSubplot:>"
      ]
     },
     "execution_count": 30,
     "metadata": {},
     "output_type": "execute_result"
    },
    {
     "data": {
      "image/png": "[encoded data removed]",
      "text/plain": [
       "<Figure size 1440x1440 with 2 Axes>"
      ]
     },
     "metadata": {
      "needs_background": "light"
     },
     "output_type": "display_data"
    }
   ],
   "source": [
    "df_cm = pd.DataFrame(matrix_norm, index = [i for i in labels_abrv],columns = [i for i in labels_abrv])\n",
    "plt.figure(figsize = (20,20))\n",
    "sn.heatmap(df_cm, annot=True)"
   ]
  },
  {
   "cell_type": "code",
   "execution_count": 31,
   "metadata": {},
   "outputs": [
    {
     "data": {
      "image/png": "[encoded data removed]",
      "text/plain": [
       "<Figure size 432x288 with 1 Axes>"
      ]
     },
     "metadata": {
      "needs_background": "light"
     },
     "output_type": "display_data"
    }
   ],
   "source": [
    "plt.title('Training curves')\n",
    "plt.plot(history.history['accuracy'], label = 'Accuracy')\n",
    "plt.legend()\n",
    "plt.show()"
   ]
  },
  {
   "cell_type": "code",
   "execution_count": 32,
   "metadata": {},
   "outputs": [
    {
     "data": {
      "image/png": "[encoded data removed]",
      "text/plain": [
       "<Figure size 432x288 with 1 Axes>"
      ]
     },
     "metadata": {
      "needs_background": "light"
     },
     "output_type": "display_data"
    }
   ],
   "source": [
    "plt.title('Training curves')\n",
    "plt.plot(history.history['loss'], label = 'Loss')\n",
    "plt.legend()\n",
    "plt.show()"
   ]
  }
 ],
 "metadata": {
  "kernelspec": {
   "display_name": "Python 3",
   "language": "python",
   "name": "python3"
  },
  "language_info": {
   "codemirror_mode": {
    "name": "ipython",
    "version": 3
   },
   "file_extension": ".py",
   "mimetype": "text/x-python",
   "name": "python",
   "nbconvert_exporter": "python",
   "pygments_lexer": "ipython3",
   "version": "3.8.8"
  }
 },
 "nbformat": 4,
 "nbformat_minor": 4
}
